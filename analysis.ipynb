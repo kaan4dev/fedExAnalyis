{
 "cells": [
  {
   "cell_type": "markdown",
   "metadata": {},
   "source": [
    "### Step 0: Imports and Reading Data\n"
   ]
  },
  {
   "cell_type": "code",
   "execution_count": 7,
   "metadata": {},
   "outputs": [],
   "source": [
    "# Import Libraries\n",
    "import pandas as pd\n",
    "import numpy as np\n",
    "import matplotlib.pyplot as plt\n",
    "import matplotlib.patches as patches\n",
    "import matplotlib.ticker as mtick\n",
    "import matplotlib.lines as lines\n",
    "import matplotlib.image as mpimg\n",
    "import matplotlib.colors as mcolors\n",
    "import seaborn as sns\n",
    "\n",
    "import warnings\n",
    "warnings.filterwarnings('ignore')"
   ]
  },
  {
   "cell_type": "code",
   "execution_count": 8,
   "metadata": {},
   "outputs": [],
   "source": [
    "df = pd.read_csv('/Users/kaancakir/data/analysis/fedExAnalyis/SCMS_Delivery_History_Dataset.csv')"
   ]
  },
  {
   "cell_type": "code",
   "execution_count": null,
   "metadata": {},
   "outputs": [],
   "source": [
    "df.head()"
   ]
  },
  {
   "cell_type": "markdown",
   "metadata": {},
   "source": [
    "### Step 0.1: Design the Charts"
   ]
  },
  {
   "cell_type": "code",
   "execution_count": 58,
   "metadata": {},
   "outputs": [],
   "source": [
    "def chart_styling(ax, fig, title, subtitle, logo_path='logo.png'):\n",
    "    fig.patch.set_facecolor('#D3D3D3')\n",
    "    ax.set_facecolor('#D3D3D3')\n",
    "\n",
    "    fig.text(0.09, 1.05, title, fontsize=18, fontweight='bold', fontfamily='serif')\n",
    "    fig.text(0.09, 0.99, subtitle, fontsize=12, fontweight='bold', fontfamily='serif')\n",
    "\n",
    "    logo = mpimg.imread(logo_path)\n",
    "    logo_ax = fig.add_axes([0.85, 0.85, 0.1, 0.1])\n",
    "    logo_ax.imshow(logo)\n",
    "    logo_ax.axis('off')\n",
    "\n",
    "    ax.grid(axis='y', linestyle='-', alpha=0.2)\n",
    "    ax.set_axisbelow(True)\n",
    "\n",
    "    for spine in ['top', 'right', 'left']:\n",
    "        ax.spines[spine].set_visible(False)\n",
    "\n",
    "    ax.tick_params(axis='both', which='major', labelsize=12)\n",
    "\n",
    "    l1 = lines.Line2D([1, 1], [0, 1], transform=fig.transFigure, figure=fig, color='black', lw=0.2)\n",
    "    fig.lines.extend([l1])\n",
    "\n",
    "    for bar in bars:\n",
    "        bar.set_color('#008080') \n",
    "\n",
    "    # Smooth the appearance\n",
    "    for bar in bars:\n",
    "        bar.set_edgecolor('#000000')\n",
    "        bar.set_linewidth(0.5)\n",
    "\n",
    "    # Rotate x-axis texts\n",
    "    ax.set_xticklabels(ax.get_xticklabels(), rotation=90)\n"
   ]
  },
  {
   "cell_type": "markdown",
   "metadata": {},
   "source": [
    "### Step 1: Data Understanding\n"
   ]
  },
  {
   "cell_type": "code",
   "execution_count": null,
   "metadata": {},
   "outputs": [],
   "source": [
    "print(f\"Number of Rows : {df.shape[0]}\")\n",
    "print(f\"Number of Columns : {df.shape[1]}\")"
   ]
  },
  {
   "cell_type": "code",
   "execution_count": null,
   "metadata": {},
   "outputs": [],
   "source": [
    "df.duplicated().sum()"
   ]
  },
  {
   "cell_type": "code",
   "execution_count": null,
   "metadata": {},
   "outputs": [],
   "source": [
    "df.isnull().sum()"
   ]
  },
  {
   "cell_type": "code",
   "execution_count": null,
   "metadata": {},
   "outputs": [],
   "source": [
    "df.dtypes"
   ]
  },
  {
   "cell_type": "code",
   "execution_count": null,
   "metadata": {},
   "outputs": [],
   "source": [
    "df.describe()"
   ]
  },
  {
   "cell_type": "code",
   "execution_count": null,
   "metadata": {},
   "outputs": [],
   "source": [
    "missing_data = df.isnull().sum().sort_values(ascending=False)\n",
    "\n",
    "fig, ax = plt.subplots(figsize=(18, 10))\n",
    "bars = ax.bar(missing_data.index, missing_data.values)\n",
    "title = \"Missing Data in Each Column\"\n",
    "subtitle = \"Sorted by Number of Missing Values\"\n",
    "\n",
    "chart_styling(ax, fig, title, subtitle)\n",
    "plt.show()\n"
   ]
  },
  {
   "cell_type": "code",
   "execution_count": null,
   "metadata": {},
   "outputs": [],
   "source": [
    "for column in df.columns:\n",
    "    print(f\"{column} : {len(df[column].unique())}\")"
   ]
  },
  {
   "cell_type": "markdown",
   "metadata": {},
   "source": [
    "### Step 2: Data Preperation"
   ]
  },
  {
   "cell_type": "code",
   "execution_count": 89,
   "metadata": {},
   "outputs": [
    {
     "data": {
      "application/vnd.microsoft.datawrangler.viewer.v0+json": {
       "columns": [
        {
         "name": "index",
         "rawType": "int64",
         "type": "integer"
        },
        {
         "name": "Country",
         "rawType": "object",
         "type": "string"
        },
        {
         "name": "Managed By",
         "rawType": "object",
         "type": "string"
        },
        {
         "name": "Fulfill Via",
         "rawType": "object",
         "type": "string"
        },
        {
         "name": "Shipment Mode",
         "rawType": "object",
         "type": "string"
        },
        {
         "name": "PQ First Sent to Client Date",
         "rawType": "object",
         "type": "string"
        },
        {
         "name": "PO Sent to Vendor Date",
         "rawType": "object",
         "type": "string"
        },
        {
         "name": "Scheduled Delivery Date",
         "rawType": "object",
         "type": "string"
        },
        {
         "name": "Delivered to Client Date",
         "rawType": "object",
         "type": "string"
        },
        {
         "name": "Delivery Recorded Date",
         "rawType": "object",
         "type": "string"
        },
        {
         "name": "Line Item Quantity",
         "rawType": "int64",
         "type": "integer"
        },
        {
         "name": "Line Item Value",
         "rawType": "float64",
         "type": "float"
        },
        {
         "name": "Weight (Kilograms)",
         "rawType": "object",
         "type": "string"
        },
        {
         "name": "Freight Cost (USD)",
         "rawType": "object",
         "type": "string"
        },
        {
         "name": "Vendor",
         "rawType": "object",
         "type": "string"
        },
        {
         "name": "Line Item Insurance (USD)",
         "rawType": "float64",
         "type": "float"
        }
       ],
       "conversionMethod": "pd.DataFrame",
       "ref": "04211f6b-b4c2-4273-a6f2-c80be7ffebe3",
       "rows": [
        [
         "0",
         "Côte d'Ivoire",
         "PMO - US",
         "Direct Drop",
         "Air",
         "Pre-PQ Process",
         "Date Not Captured",
         "2-Jun-06",
         "2-Jun-06",
         "2-Jun-06",
         "19",
         "551.0",
         "13",
         "780.34",
         "RANBAXY Fine Chemicals LTD.",
         null
        ],
        [
         "1",
         "Vietnam",
         "PMO - US",
         "Direct Drop",
         "Air",
         "Pre-PQ Process",
         "Date Not Captured",
         "14-Nov-06",
         "14-Nov-06",
         "14-Nov-06",
         "1000",
         "6200.0",
         "358",
         "4521.5",
         "Aurobindo Pharma Limited",
         null
        ],
        [
         "2",
         "Côte d'Ivoire",
         "PMO - US",
         "Direct Drop",
         "Air",
         "Pre-PQ Process",
         "Date Not Captured",
         "27-Aug-06",
         "27-Aug-06",
         "27-Aug-06",
         "500",
         "40000.0",
         "171",
         "1653.78",
         "Abbott GmbH & Co. KG",
         null
        ],
        [
         "3",
         "Vietnam",
         "PMO - US",
         "Direct Drop",
         "Air",
         "Pre-PQ Process",
         "Date Not Captured",
         "1-Sep-06",
         "1-Sep-06",
         "1-Sep-06",
         "31920",
         "127360.8",
         "1855",
         "16007.06",
         "SUN PHARMACEUTICAL INDUSTRIES LTD (RANBAXY LABORATORIES LIMITED)",
         null
        ],
        [
         "4",
         "Vietnam",
         "PMO - US",
         "Direct Drop",
         "Air",
         "Pre-PQ Process",
         "Date Not Captured",
         "11-Aug-06",
         "11-Aug-06",
         "11-Aug-06",
         "38000",
         "121600.0",
         "7590",
         "45450.08",
         "Aurobindo Pharma Limited",
         null
        ]
       ],
       "shape": {
        "columns": 15,
        "rows": 5
       }
      },
      "text/html": [
       "<div>\n",
       "<style scoped>\n",
       "    .dataframe tbody tr th:only-of-type {\n",
       "        vertical-align: middle;\n",
       "    }\n",
       "\n",
       "    .dataframe tbody tr th {\n",
       "        vertical-align: top;\n",
       "    }\n",
       "\n",
       "    .dataframe thead th {\n",
       "        text-align: right;\n",
       "    }\n",
       "</style>\n",
       "<table border=\"1\" class=\"dataframe\">\n",
       "  <thead>\n",
       "    <tr style=\"text-align: right;\">\n",
       "      <th></th>\n",
       "      <th>Country</th>\n",
       "      <th>Managed By</th>\n",
       "      <th>Fulfill Via</th>\n",
       "      <th>Shipment Mode</th>\n",
       "      <th>PQ First Sent to Client Date</th>\n",
       "      <th>PO Sent to Vendor Date</th>\n",
       "      <th>Scheduled Delivery Date</th>\n",
       "      <th>Delivered to Client Date</th>\n",
       "      <th>Delivery Recorded Date</th>\n",
       "      <th>Line Item Quantity</th>\n",
       "      <th>Line Item Value</th>\n",
       "      <th>Weight (Kilograms)</th>\n",
       "      <th>Freight Cost (USD)</th>\n",
       "      <th>Vendor</th>\n",
       "      <th>Line Item Insurance (USD)</th>\n",
       "    </tr>\n",
       "  </thead>\n",
       "  <tbody>\n",
       "    <tr>\n",
       "      <th>0</th>\n",
       "      <td>Côte d'Ivoire</td>\n",
       "      <td>PMO - US</td>\n",
       "      <td>Direct Drop</td>\n",
       "      <td>Air</td>\n",
       "      <td>Pre-PQ Process</td>\n",
       "      <td>Date Not Captured</td>\n",
       "      <td>2-Jun-06</td>\n",
       "      <td>2-Jun-06</td>\n",
       "      <td>2-Jun-06</td>\n",
       "      <td>19</td>\n",
       "      <td>551.0</td>\n",
       "      <td>13</td>\n",
       "      <td>780.34</td>\n",
       "      <td>RANBAXY Fine Chemicals LTD.</td>\n",
       "      <td>NaN</td>\n",
       "    </tr>\n",
       "    <tr>\n",
       "      <th>1</th>\n",
       "      <td>Vietnam</td>\n",
       "      <td>PMO - US</td>\n",
       "      <td>Direct Drop</td>\n",
       "      <td>Air</td>\n",
       "      <td>Pre-PQ Process</td>\n",
       "      <td>Date Not Captured</td>\n",
       "      <td>14-Nov-06</td>\n",
       "      <td>14-Nov-06</td>\n",
       "      <td>14-Nov-06</td>\n",
       "      <td>1000</td>\n",
       "      <td>6200.0</td>\n",
       "      <td>358</td>\n",
       "      <td>4521.5</td>\n",
       "      <td>Aurobindo Pharma Limited</td>\n",
       "      <td>NaN</td>\n",
       "    </tr>\n",
       "    <tr>\n",
       "      <th>2</th>\n",
       "      <td>Côte d'Ivoire</td>\n",
       "      <td>PMO - US</td>\n",
       "      <td>Direct Drop</td>\n",
       "      <td>Air</td>\n",
       "      <td>Pre-PQ Process</td>\n",
       "      <td>Date Not Captured</td>\n",
       "      <td>27-Aug-06</td>\n",
       "      <td>27-Aug-06</td>\n",
       "      <td>27-Aug-06</td>\n",
       "      <td>500</td>\n",
       "      <td>40000.0</td>\n",
       "      <td>171</td>\n",
       "      <td>1653.78</td>\n",
       "      <td>Abbott GmbH &amp; Co. KG</td>\n",
       "      <td>NaN</td>\n",
       "    </tr>\n",
       "    <tr>\n",
       "      <th>3</th>\n",
       "      <td>Vietnam</td>\n",
       "      <td>PMO - US</td>\n",
       "      <td>Direct Drop</td>\n",
       "      <td>Air</td>\n",
       "      <td>Pre-PQ Process</td>\n",
       "      <td>Date Not Captured</td>\n",
       "      <td>1-Sep-06</td>\n",
       "      <td>1-Sep-06</td>\n",
       "      <td>1-Sep-06</td>\n",
       "      <td>31920</td>\n",
       "      <td>127360.8</td>\n",
       "      <td>1855</td>\n",
       "      <td>16007.06</td>\n",
       "      <td>SUN PHARMACEUTICAL INDUSTRIES LTD (RANBAXY LAB...</td>\n",
       "      <td>NaN</td>\n",
       "    </tr>\n",
       "    <tr>\n",
       "      <th>4</th>\n",
       "      <td>Vietnam</td>\n",
       "      <td>PMO - US</td>\n",
       "      <td>Direct Drop</td>\n",
       "      <td>Air</td>\n",
       "      <td>Pre-PQ Process</td>\n",
       "      <td>Date Not Captured</td>\n",
       "      <td>11-Aug-06</td>\n",
       "      <td>11-Aug-06</td>\n",
       "      <td>11-Aug-06</td>\n",
       "      <td>38000</td>\n",
       "      <td>121600.0</td>\n",
       "      <td>7590</td>\n",
       "      <td>45450.08</td>\n",
       "      <td>Aurobindo Pharma Limited</td>\n",
       "      <td>NaN</td>\n",
       "    </tr>\n",
       "  </tbody>\n",
       "</table>\n",
       "</div>"
      ],
      "text/plain": [
       "         Country Managed By  Fulfill Via Shipment Mode  \\\n",
       "0  Côte d'Ivoire   PMO - US  Direct Drop           Air   \n",
       "1        Vietnam   PMO - US  Direct Drop           Air   \n",
       "2  Côte d'Ivoire   PMO - US  Direct Drop           Air   \n",
       "3        Vietnam   PMO - US  Direct Drop           Air   \n",
       "4        Vietnam   PMO - US  Direct Drop           Air   \n",
       "\n",
       "  PQ First Sent to Client Date PO Sent to Vendor Date Scheduled Delivery Date  \\\n",
       "0               Pre-PQ Process      Date Not Captured                2-Jun-06   \n",
       "1               Pre-PQ Process      Date Not Captured               14-Nov-06   \n",
       "2               Pre-PQ Process      Date Not Captured               27-Aug-06   \n",
       "3               Pre-PQ Process      Date Not Captured                1-Sep-06   \n",
       "4               Pre-PQ Process      Date Not Captured               11-Aug-06   \n",
       "\n",
       "  Delivered to Client Date Delivery Recorded Date  Line Item Quantity  \\\n",
       "0                 2-Jun-06               2-Jun-06                  19   \n",
       "1                14-Nov-06              14-Nov-06                1000   \n",
       "2                27-Aug-06              27-Aug-06                 500   \n",
       "3                 1-Sep-06               1-Sep-06               31920   \n",
       "4                11-Aug-06              11-Aug-06               38000   \n",
       "\n",
       "   Line Item Value Weight (Kilograms) Freight Cost (USD)  \\\n",
       "0            551.0                 13             780.34   \n",
       "1           6200.0                358             4521.5   \n",
       "2          40000.0                171            1653.78   \n",
       "3         127360.8               1855           16007.06   \n",
       "4         121600.0               7590           45450.08   \n",
       "\n",
       "                                              Vendor  \\\n",
       "0                        RANBAXY Fine Chemicals LTD.   \n",
       "1                           Aurobindo Pharma Limited   \n",
       "2                               Abbott GmbH & Co. KG   \n",
       "3  SUN PHARMACEUTICAL INDUSTRIES LTD (RANBAXY LAB...   \n",
       "4                           Aurobindo Pharma Limited   \n",
       "\n",
       "   Line Item Insurance (USD)  \n",
       "0                        NaN  \n",
       "1                        NaN  \n",
       "2                        NaN  \n",
       "3                        NaN  \n",
       "4                        NaN  "
      ]
     },
     "execution_count": 89,
     "metadata": {},
     "output_type": "execute_result"
    }
   ],
   "source": [
    "fedex = df[['Country',\n",
    "    'Managed By',\n",
    "    'Fulfill Via',\n",
    "    'Shipment Mode',\n",
    "    'PQ First Sent to Client Date',\n",
    "    'PO Sent to Vendor Date',\n",
    "    'Scheduled Delivery Date',\n",
    "    'Delivered to Client Date',\n",
    "    'Delivery Recorded Date',\n",
    "    'Line Item Quantity',\n",
    "    'Line Item Value',\n",
    "    'Weight (Kilograms)',\n",
    "    'Freight Cost (USD)',\n",
    "    'Vendor',\n",
    "    'Line Item Insurance (USD)'\n",
    "    ]]\n",
    "\n",
    "fedex.head(5)"
   ]
  },
  {
   "cell_type": "code",
   "execution_count": null,
   "metadata": {},
   "outputs": [],
   "source": [
    "# Fill the NA values with the modes of that values.\n",
    "shipmentModeMode = fedex['Shipment Mode'].mode()[0]\n",
    "\n",
    "fedex['Shipment Mode'].fillna(shipmentModeMode, inplace=True)\n",
    "\n",
    "fedex['Shipment Mode'].isnull().sum()\n"
   ]
  },
  {
   "cell_type": "code",
   "execution_count": null,
   "metadata": {},
   "outputs": [],
   "source": [
    "# Fill the NA values with the 0 values.\n",
    "\n",
    "fedex['Line Item Insurance (USD)'] = fedex['Line Item Insurance (USD)'].fillna(0)\n",
    "\n",
    "fedex['Line Item Insurance (USD)'].isnull().sum()"
   ]
  },
  {
   "cell_type": "code",
   "execution_count": 75,
   "metadata": {},
   "outputs": [],
   "source": [
    "fedex.drop_duplicates(inplace=True)"
   ]
  },
  {
   "cell_type": "code",
   "execution_count": 77,
   "metadata": {},
   "outputs": [],
   "source": [
    "date_columns = ['PQ First Sent to Client Date', 'PO Sent to Vendor Date', 'Scheduled Delivery Date', 'Delivered to Client Date', 'Delivery Recorded Date']\n",
    "\n",
    "for col in date_columns:\n",
    "    fedex[col] = pd.to_datetime(fedex[col], errors='coerce') "
   ]
  },
  {
   "cell_type": "code",
   "execution_count": 79,
   "metadata": {},
   "outputs": [],
   "source": [
    "numeric_columns = ['Line Item Quantity', 'Line Item Value', 'Weight (Kilograms)', 'Freight Cost (USD)', 'Line Item Insurance (USD)']\n",
    "for column in numeric_columns:\n",
    "    fedex[column] = pd.to_numeric(fedex[column], errors='coerce')"
   ]
  },
  {
   "cell_type": "code",
   "execution_count": 80,
   "metadata": {},
   "outputs": [],
   "source": [
    "fedex['Country'] = fedex['Country'].str.strip().str.lower() "
   ]
  },
  {
   "cell_type": "code",
   "execution_count": null,
   "metadata": {},
   "outputs": [],
   "source": [
    "fedex.info()"
   ]
  }
 ],
 "metadata": {
  "kernelspec": {
   "display_name": "jupyter_env",
   "language": "python",
   "name": "python3"
  },
  "language_info": {
   "codemirror_mode": {
    "name": "ipython",
    "version": 3
   },
   "file_extension": ".py",
   "mimetype": "text/x-python",
   "name": "python",
   "nbconvert_exporter": "python",
   "pygments_lexer": "ipython3",
   "version": "3.13.2"
  }
 },
 "nbformat": 4,
 "nbformat_minor": 2
}
