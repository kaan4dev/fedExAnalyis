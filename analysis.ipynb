{
 "cells": [
  {
   "cell_type": "markdown",
   "metadata": {},
   "source": [
    "## Step 0: Imports and Reading Data\n"
   ]
  },
  {
   "cell_type": "code",
   "execution_count": 4,
   "metadata": {},
   "outputs": [],
   "source": [
    "import pandas as pd\n",
    "import numpy as np\n",
    "import matplotlib.pyplot as plt\n",
    "import matplotlib.patches as patches\n",
    "import matplotlib.ticker as mtick\n",
    "import matplotlib.lines as lines\n",
    "import matplotlib.image as mpimg\n",
    "import matplotlib.colors as mcolors\n",
    "import seaborn as sns\n",
    "\n",
    "import warnings\n",
    "warnings.filterwarnings('ignore')"
   ]
  },
  {
   "cell_type": "code",
   "execution_count": 5,
   "metadata": {},
   "outputs": [],
   "source": [
    "df = pd.read_csv('/Users/kaancakir/data/analysis/fedExAnalyis/SCMS_Delivery_History_Dataset.csv')"
   ]
  },
  {
   "cell_type": "code",
   "execution_count": 6,
   "metadata": {},
   "outputs": [
    {
     "data": {
      "application/vnd.microsoft.datawrangler.viewer.v0+json": {
       "columns": [
        {
         "name": "index",
         "rawType": "int64",
         "type": "integer"
        },
        {
         "name": "ID",
         "rawType": "int64",
         "type": "integer"
        },
        {
         "name": "Project Code",
         "rawType": "object",
         "type": "string"
        },
        {
         "name": "PQ #",
         "rawType": "object",
         "type": "string"
        },
        {
         "name": "PO / SO #",
         "rawType": "object",
         "type": "string"
        },
        {
         "name": "ASN/DN #",
         "rawType": "object",
         "type": "string"
        },
        {
         "name": "Country",
         "rawType": "object",
         "type": "string"
        },
        {
         "name": "Managed By",
         "rawType": "object",
         "type": "string"
        },
        {
         "name": "Fulfill Via",
         "rawType": "object",
         "type": "string"
        },
        {
         "name": "Vendor INCO Term",
         "rawType": "object",
         "type": "string"
        },
        {
         "name": "Shipment Mode",
         "rawType": "object",
         "type": "string"
        },
        {
         "name": "PQ First Sent to Client Date",
         "rawType": "object",
         "type": "string"
        },
        {
         "name": "PO Sent to Vendor Date",
         "rawType": "object",
         "type": "string"
        },
        {
         "name": "Scheduled Delivery Date",
         "rawType": "object",
         "type": "string"
        },
        {
         "name": "Delivered to Client Date",
         "rawType": "object",
         "type": "string"
        },
        {
         "name": "Delivery Recorded Date",
         "rawType": "object",
         "type": "string"
        },
        {
         "name": "Product Group",
         "rawType": "object",
         "type": "string"
        },
        {
         "name": "Sub Classification",
         "rawType": "object",
         "type": "string"
        },
        {
         "name": "Vendor",
         "rawType": "object",
         "type": "string"
        },
        {
         "name": "Item Description",
         "rawType": "object",
         "type": "string"
        },
        {
         "name": "Molecule/Test Type",
         "rawType": "object",
         "type": "string"
        },
        {
         "name": "Brand",
         "rawType": "object",
         "type": "string"
        },
        {
         "name": "Dosage",
         "rawType": "object",
         "type": "unknown"
        },
        {
         "name": "Dosage Form",
         "rawType": "object",
         "type": "string"
        },
        {
         "name": "Unit of Measure (Per Pack)",
         "rawType": "int64",
         "type": "integer"
        },
        {
         "name": "Line Item Quantity",
         "rawType": "int64",
         "type": "integer"
        },
        {
         "name": "Line Item Value",
         "rawType": "float64",
         "type": "float"
        },
        {
         "name": "Pack Price",
         "rawType": "float64",
         "type": "float"
        },
        {
         "name": "Unit Price",
         "rawType": "float64",
         "type": "float"
        },
        {
         "name": "Manufacturing Site",
         "rawType": "object",
         "type": "string"
        },
        {
         "name": "First Line Designation",
         "rawType": "object",
         "type": "string"
        },
        {
         "name": "Weight (Kilograms)",
         "rawType": "object",
         "type": "string"
        },
        {
         "name": "Freight Cost (USD)",
         "rawType": "object",
         "type": "string"
        },
        {
         "name": "Line Item Insurance (USD)",
         "rawType": "float64",
         "type": "float"
        }
       ],
       "conversionMethod": "pd.DataFrame",
       "ref": "2ef70bda-08ea-4d44-9db8-f38f62cc7191",
       "rows": [
        [
         "0",
         "1",
         "100-CI-T01",
         "Pre-PQ Process",
         "SCMS-4",
         "ASN-8",
         "Côte d'Ivoire",
         "PMO - US",
         "Direct Drop",
         "EXW",
         "Air",
         "Pre-PQ Process",
         "Date Not Captured",
         "2-Jun-06",
         "2-Jun-06",
         "2-Jun-06",
         "HRDT",
         "HIV test",
         "RANBAXY Fine Chemicals LTD.",
         "HIV, Reveal G3 Rapid HIV-1 Antibody Test, 30 Tests",
         "HIV, Reveal G3 Rapid HIV-1 Antibody Test",
         "Reveal",
         null,
         "Test kit",
         "30",
         "19",
         "551.0",
         "29.0",
         "0.97",
         "Ranbaxy Fine Chemicals LTD",
         "Yes",
         "13",
         "780.34",
         null
        ],
        [
         "1",
         "3",
         "108-VN-T01",
         "Pre-PQ Process",
         "SCMS-13",
         "ASN-85",
         "Vietnam",
         "PMO - US",
         "Direct Drop",
         "EXW",
         "Air",
         "Pre-PQ Process",
         "Date Not Captured",
         "14-Nov-06",
         "14-Nov-06",
         "14-Nov-06",
         "ARV",
         "Pediatric",
         "Aurobindo Pharma Limited",
         "Nevirapine 10mg/ml, oral suspension, Bottle, 240 ml",
         "Nevirapine",
         "Generic",
         "10mg/ml",
         "Oral suspension",
         "240",
         "1000",
         "6200.0",
         "6.2",
         "0.03",
         "Aurobindo Unit III, India",
         "Yes",
         "358",
         "4521.5",
         null
        ],
        [
         "2",
         "4",
         "100-CI-T01",
         "Pre-PQ Process",
         "SCMS-20",
         "ASN-14",
         "Côte d'Ivoire",
         "PMO - US",
         "Direct Drop",
         "FCA",
         "Air",
         "Pre-PQ Process",
         "Date Not Captured",
         "27-Aug-06",
         "27-Aug-06",
         "27-Aug-06",
         "HRDT",
         "HIV test",
         "Abbott GmbH & Co. KG",
         "HIV 1/2, Determine Complete HIV Kit, 100 Tests",
         "HIV 1/2, Determine Complete HIV Kit",
         "Determine",
         null,
         "Test kit",
         "100",
         "500",
         "40000.0",
         "80.0",
         "0.8",
         "ABBVIE GmbH & Co.KG Wiesbaden",
         "Yes",
         "171",
         "1653.78",
         null
        ],
        [
         "3",
         "15",
         "108-VN-T01",
         "Pre-PQ Process",
         "SCMS-78",
         "ASN-50",
         "Vietnam",
         "PMO - US",
         "Direct Drop",
         "EXW",
         "Air",
         "Pre-PQ Process",
         "Date Not Captured",
         "1-Sep-06",
         "1-Sep-06",
         "1-Sep-06",
         "ARV",
         "Adult",
         "SUN PHARMACEUTICAL INDUSTRIES LTD (RANBAXY LABORATORIES LIMITED)",
         "Lamivudine 150mg, tablets, 60 Tabs",
         "Lamivudine",
         "Generic",
         "150mg",
         "Tablet",
         "60",
         "31920",
         "127360.8",
         "3.99",
         "0.07",
         "Ranbaxy, Paonta Shahib, India",
         "Yes",
         "1855",
         "16007.06",
         null
        ],
        [
         "4",
         "16",
         "108-VN-T01",
         "Pre-PQ Process",
         "SCMS-81",
         "ASN-55",
         "Vietnam",
         "PMO - US",
         "Direct Drop",
         "EXW",
         "Air",
         "Pre-PQ Process",
         "Date Not Captured",
         "11-Aug-06",
         "11-Aug-06",
         "11-Aug-06",
         "ARV",
         "Adult",
         "Aurobindo Pharma Limited",
         "Stavudine 30mg, capsules, 60 Caps",
         "Stavudine",
         "Generic",
         "30mg",
         "Capsule",
         "60",
         "38000",
         "121600.0",
         "3.2",
         "0.05",
         "Aurobindo Unit III, India",
         "Yes",
         "7590",
         "45450.08",
         null
        ]
       ],
       "shape": {
        "columns": 33,
        "rows": 5
       }
      },
      "text/html": [
       "<div>\n",
       "<style scoped>\n",
       "    .dataframe tbody tr th:only-of-type {\n",
       "        vertical-align: middle;\n",
       "    }\n",
       "\n",
       "    .dataframe tbody tr th {\n",
       "        vertical-align: top;\n",
       "    }\n",
       "\n",
       "    .dataframe thead th {\n",
       "        text-align: right;\n",
       "    }\n",
       "</style>\n",
       "<table border=\"1\" class=\"dataframe\">\n",
       "  <thead>\n",
       "    <tr style=\"text-align: right;\">\n",
       "      <th></th>\n",
       "      <th>ID</th>\n",
       "      <th>Project Code</th>\n",
       "      <th>PQ #</th>\n",
       "      <th>PO / SO #</th>\n",
       "      <th>ASN/DN #</th>\n",
       "      <th>Country</th>\n",
       "      <th>Managed By</th>\n",
       "      <th>Fulfill Via</th>\n",
       "      <th>Vendor INCO Term</th>\n",
       "      <th>Shipment Mode</th>\n",
       "      <th>...</th>\n",
       "      <th>Unit of Measure (Per Pack)</th>\n",
       "      <th>Line Item Quantity</th>\n",
       "      <th>Line Item Value</th>\n",
       "      <th>Pack Price</th>\n",
       "      <th>Unit Price</th>\n",
       "      <th>Manufacturing Site</th>\n",
       "      <th>First Line Designation</th>\n",
       "      <th>Weight (Kilograms)</th>\n",
       "      <th>Freight Cost (USD)</th>\n",
       "      <th>Line Item Insurance (USD)</th>\n",
       "    </tr>\n",
       "  </thead>\n",
       "  <tbody>\n",
       "    <tr>\n",
       "      <th>0</th>\n",
       "      <td>1</td>\n",
       "      <td>100-CI-T01</td>\n",
       "      <td>Pre-PQ Process</td>\n",
       "      <td>SCMS-4</td>\n",
       "      <td>ASN-8</td>\n",
       "      <td>Côte d'Ivoire</td>\n",
       "      <td>PMO - US</td>\n",
       "      <td>Direct Drop</td>\n",
       "      <td>EXW</td>\n",
       "      <td>Air</td>\n",
       "      <td>...</td>\n",
       "      <td>30</td>\n",
       "      <td>19</td>\n",
       "      <td>551.0</td>\n",
       "      <td>29.00</td>\n",
       "      <td>0.97</td>\n",
       "      <td>Ranbaxy Fine Chemicals LTD</td>\n",
       "      <td>Yes</td>\n",
       "      <td>13</td>\n",
       "      <td>780.34</td>\n",
       "      <td>NaN</td>\n",
       "    </tr>\n",
       "    <tr>\n",
       "      <th>1</th>\n",
       "      <td>3</td>\n",
       "      <td>108-VN-T01</td>\n",
       "      <td>Pre-PQ Process</td>\n",
       "      <td>SCMS-13</td>\n",
       "      <td>ASN-85</td>\n",
       "      <td>Vietnam</td>\n",
       "      <td>PMO - US</td>\n",
       "      <td>Direct Drop</td>\n",
       "      <td>EXW</td>\n",
       "      <td>Air</td>\n",
       "      <td>...</td>\n",
       "      <td>240</td>\n",
       "      <td>1000</td>\n",
       "      <td>6200.0</td>\n",
       "      <td>6.20</td>\n",
       "      <td>0.03</td>\n",
       "      <td>Aurobindo Unit III, India</td>\n",
       "      <td>Yes</td>\n",
       "      <td>358</td>\n",
       "      <td>4521.5</td>\n",
       "      <td>NaN</td>\n",
       "    </tr>\n",
       "    <tr>\n",
       "      <th>2</th>\n",
       "      <td>4</td>\n",
       "      <td>100-CI-T01</td>\n",
       "      <td>Pre-PQ Process</td>\n",
       "      <td>SCMS-20</td>\n",
       "      <td>ASN-14</td>\n",
       "      <td>Côte d'Ivoire</td>\n",
       "      <td>PMO - US</td>\n",
       "      <td>Direct Drop</td>\n",
       "      <td>FCA</td>\n",
       "      <td>Air</td>\n",
       "      <td>...</td>\n",
       "      <td>100</td>\n",
       "      <td>500</td>\n",
       "      <td>40000.0</td>\n",
       "      <td>80.00</td>\n",
       "      <td>0.80</td>\n",
       "      <td>ABBVIE GmbH &amp; Co.KG Wiesbaden</td>\n",
       "      <td>Yes</td>\n",
       "      <td>171</td>\n",
       "      <td>1653.78</td>\n",
       "      <td>NaN</td>\n",
       "    </tr>\n",
       "    <tr>\n",
       "      <th>3</th>\n",
       "      <td>15</td>\n",
       "      <td>108-VN-T01</td>\n",
       "      <td>Pre-PQ Process</td>\n",
       "      <td>SCMS-78</td>\n",
       "      <td>ASN-50</td>\n",
       "      <td>Vietnam</td>\n",
       "      <td>PMO - US</td>\n",
       "      <td>Direct Drop</td>\n",
       "      <td>EXW</td>\n",
       "      <td>Air</td>\n",
       "      <td>...</td>\n",
       "      <td>60</td>\n",
       "      <td>31920</td>\n",
       "      <td>127360.8</td>\n",
       "      <td>3.99</td>\n",
       "      <td>0.07</td>\n",
       "      <td>Ranbaxy, Paonta Shahib, India</td>\n",
       "      <td>Yes</td>\n",
       "      <td>1855</td>\n",
       "      <td>16007.06</td>\n",
       "      <td>NaN</td>\n",
       "    </tr>\n",
       "    <tr>\n",
       "      <th>4</th>\n",
       "      <td>16</td>\n",
       "      <td>108-VN-T01</td>\n",
       "      <td>Pre-PQ Process</td>\n",
       "      <td>SCMS-81</td>\n",
       "      <td>ASN-55</td>\n",
       "      <td>Vietnam</td>\n",
       "      <td>PMO - US</td>\n",
       "      <td>Direct Drop</td>\n",
       "      <td>EXW</td>\n",
       "      <td>Air</td>\n",
       "      <td>...</td>\n",
       "      <td>60</td>\n",
       "      <td>38000</td>\n",
       "      <td>121600.0</td>\n",
       "      <td>3.20</td>\n",
       "      <td>0.05</td>\n",
       "      <td>Aurobindo Unit III, India</td>\n",
       "      <td>Yes</td>\n",
       "      <td>7590</td>\n",
       "      <td>45450.08</td>\n",
       "      <td>NaN</td>\n",
       "    </tr>\n",
       "  </tbody>\n",
       "</table>\n",
       "<p>5 rows × 33 columns</p>\n",
       "</div>"
      ],
      "text/plain": [
       "   ID Project Code            PQ # PO / SO # ASN/DN #        Country  \\\n",
       "0   1   100-CI-T01  Pre-PQ Process    SCMS-4    ASN-8  Côte d'Ivoire   \n",
       "1   3   108-VN-T01  Pre-PQ Process   SCMS-13   ASN-85        Vietnam   \n",
       "2   4   100-CI-T01  Pre-PQ Process   SCMS-20   ASN-14  Côte d'Ivoire   \n",
       "3  15   108-VN-T01  Pre-PQ Process   SCMS-78   ASN-50        Vietnam   \n",
       "4  16   108-VN-T01  Pre-PQ Process   SCMS-81   ASN-55        Vietnam   \n",
       "\n",
       "  Managed By  Fulfill Via Vendor INCO Term Shipment Mode  ...  \\\n",
       "0   PMO - US  Direct Drop              EXW           Air  ...   \n",
       "1   PMO - US  Direct Drop              EXW           Air  ...   \n",
       "2   PMO - US  Direct Drop              FCA           Air  ...   \n",
       "3   PMO - US  Direct Drop              EXW           Air  ...   \n",
       "4   PMO - US  Direct Drop              EXW           Air  ...   \n",
       "\n",
       "  Unit of Measure (Per Pack) Line Item Quantity Line Item Value Pack Price  \\\n",
       "0                         30                 19           551.0      29.00   \n",
       "1                        240               1000          6200.0       6.20   \n",
       "2                        100                500         40000.0      80.00   \n",
       "3                         60              31920        127360.8       3.99   \n",
       "4                         60              38000        121600.0       3.20   \n",
       "\n",
       "  Unit Price             Manufacturing Site First Line Designation  \\\n",
       "0       0.97     Ranbaxy Fine Chemicals LTD                    Yes   \n",
       "1       0.03      Aurobindo Unit III, India                    Yes   \n",
       "2       0.80  ABBVIE GmbH & Co.KG Wiesbaden                    Yes   \n",
       "3       0.07  Ranbaxy, Paonta Shahib, India                    Yes   \n",
       "4       0.05      Aurobindo Unit III, India                    Yes   \n",
       "\n",
       "  Weight (Kilograms) Freight Cost (USD) Line Item Insurance (USD)  \n",
       "0                 13             780.34                       NaN  \n",
       "1                358             4521.5                       NaN  \n",
       "2                171            1653.78                       NaN  \n",
       "3               1855           16007.06                       NaN  \n",
       "4               7590           45450.08                       NaN  \n",
       "\n",
       "[5 rows x 33 columns]"
      ]
     },
     "execution_count": 6,
     "metadata": {},
     "output_type": "execute_result"
    }
   ],
   "source": [
    "df.head()"
   ]
  },
  {
   "cell_type": "markdown",
   "metadata": {},
   "source": [
    "## Step 0.1: Design the Charts"
   ]
  },
  {
   "cell_type": "markdown",
   "metadata": {},
   "source": [
    "#### General Charts Design"
   ]
  },
  {
   "cell_type": "code",
   "execution_count": 25,
   "metadata": {},
   "outputs": [],
   "source": [
    "def chart_styling(ax, fig, title, bars, logo_path='logo.png'):\n",
    "    fig.patch.set_facecolor('#D3D3D3')\n",
    "    ax.set_facecolor('#D3D3D3')\n",
    "\n",
    "    fig.text(0.09, 1.05, title, fontsize=18, fontweight='bold', fontfamily='serif')\n",
    "\n",
    "    logo = mpimg.imread(logo_path)\n",
    "    logo_ax = fig.add_axes([0.85, 0.85, 0.1, 0.1])\n",
    "    logo_ax.imshow(logo)\n",
    "    logo_ax.axis('off')\n",
    "\n",
    "    ax.grid(axis='y', linestyle='-', alpha=0.2)\n",
    "    ax.set_axisbelow(True)\n",
    "\n",
    "    for spine in ['top', 'right', 'left']:\n",
    "        ax.spines[spine].set_visible(False)\n",
    "\n",
    "    ax.tick_params(axis='both', which='major', labelsize=12)\n",
    "\n",
    "    l1 = lines.Line2D([1, 1], [0, 1], transform=fig.transFigure, figure=fig, color='black', lw=0.2)\n",
    "    fig.lines.extend([l1])\n",
    "\n",
    "    for bar in bars:\n",
    "        bar.set_color('#008080') \n",
    "        \n",
    "    for bar in bars:\n",
    "        bar.set_edgecolor('#000000')\n",
    "        bar.set_linewidth(0.5)\n",
    "\n",
    "    ax.set_xticklabels(ax.get_xticklabels(), rotation=90)\n"
   ]
  },
  {
   "cell_type": "markdown",
   "metadata": {},
   "source": [
    "#### Pie Charts Design"
   ]
  },
  {
   "cell_type": "code",
   "execution_count": 39,
   "metadata": {},
   "outputs": [],
   "source": [
    "def chart_styling_pie(ax, fig, title, wedges, logo_path='logo.png'):\n",
    "    fig.patch.set_facecolor('#D3D3D3')\n",
    "    ax.set_facecolor('#D3D3D3')\n",
    "\n",
    "    fig.text(0.09, 1.05, title, fontsize=18, fontweight='bold', fontfamily='serif')\n",
    "\n",
    "    logo = mpimg.imread(logo_path)\n",
    "    logo_ax = fig.add_axes([0.85, 0.85, 0.1, 0.1])\n",
    "    logo_ax.imshow(logo)\n",
    "    logo_ax.axis('off')\n",
    "\n",
    "    for wedge in wedges:\n",
    "        wedge.set_color('#008080')\n",
    "        wedge.set_edgecolor('#000000')\n",
    "        wedge.set_linewidth(0.5)"
   ]
  },
  {
   "cell_type": "markdown",
   "metadata": {},
   "source": [
    "## Step 1: Data Understanding\n"
   ]
  },
  {
   "cell_type": "code",
   "execution_count": 8,
   "metadata": {},
   "outputs": [
    {
     "name": "stdout",
     "output_type": "stream",
     "text": [
      "Number of Rows : 10324\n",
      "Number of Columns : 33\n"
     ]
    }
   ],
   "source": [
    "print(f\"Number of Rows : {df.shape[0]}\")\n",
    "print(f\"Number of Columns : {df.shape[1]}\")"
   ]
  },
  {
   "cell_type": "code",
   "execution_count": 9,
   "metadata": {},
   "outputs": [
    {
     "data": {
      "text/plain": [
       "np.int64(0)"
      ]
     },
     "execution_count": 9,
     "metadata": {},
     "output_type": "execute_result"
    }
   ],
   "source": [
    "df.duplicated().sum()"
   ]
  },
  {
   "cell_type": "code",
   "execution_count": null,
   "metadata": {},
   "outputs": [],
   "source": [
    "df.isnull().sum()"
   ]
  },
  {
   "cell_type": "code",
   "execution_count": null,
   "metadata": {},
   "outputs": [],
   "source": [
    "df.dtypes"
   ]
  },
  {
   "cell_type": "code",
   "execution_count": 12,
   "metadata": {},
   "outputs": [
    {
     "data": {
      "application/vnd.microsoft.datawrangler.viewer.v0+json": {
       "columns": [
        {
         "name": "index",
         "rawType": "object",
         "type": "string"
        },
        {
         "name": "ID",
         "rawType": "float64",
         "type": "float"
        },
        {
         "name": "Unit of Measure (Per Pack)",
         "rawType": "float64",
         "type": "float"
        },
        {
         "name": "Line Item Quantity",
         "rawType": "float64",
         "type": "float"
        },
        {
         "name": "Line Item Value",
         "rawType": "float64",
         "type": "float"
        },
        {
         "name": "Pack Price",
         "rawType": "float64",
         "type": "float"
        },
        {
         "name": "Unit Price",
         "rawType": "float64",
         "type": "float"
        },
        {
         "name": "Line Item Insurance (USD)",
         "rawType": "float64",
         "type": "float"
        }
       ],
       "conversionMethod": "pd.DataFrame",
       "ref": "296e77a8-797c-47db-b71f-baaa56c15101",
       "rows": [
        [
         "count",
         "10324.0",
         "10324.0",
         "10324.0",
         "10324.0",
         "10324.0",
         "10324.0",
         "10037.0"
        ],
        [
         "mean",
         "51098.96822936846",
         "77.99089500193723",
         "18332.534870205345",
         "157650.56734695853",
         "21.91024118558698",
         "0.6117008911274698",
         "240.11762578459698"
        ],
        [
         "std",
         "31944.332495943774",
         "76.57976396144102",
         "40035.30296149489",
         "345292.0669788389",
         "45.609223084470806",
         "3.275807740843419",
         "500.19056766255534"
        ],
        [
         "min",
         "1.0",
         "1.0",
         "1.0",
         "0.0",
         "0.0",
         "0.0",
         "0.0"
        ],
        [
         "25%",
         "12795.75",
         "30.0",
         "408.0",
         "4314.592500000001",
         "4.12",
         "0.08",
         "6.51"
        ],
        [
         "50%",
         "57540.5",
         "60.0",
         "3000.0",
         "30471.465",
         "9.3",
         "0.16",
         "47.04"
        ],
        [
         "75%",
         "83648.25",
         "90.0",
         "17039.75",
         "166447.13999999998",
         "23.5925",
         "0.47",
         "252.4"
        ],
        [
         "max",
         "86823.0",
         "1000.0",
         "619999.0",
         "5951990.4",
         "1345.64",
         "238.65",
         "7708.44"
        ]
       ],
       "shape": {
        "columns": 7,
        "rows": 8
       }
      },
      "text/html": [
       "<div>\n",
       "<style scoped>\n",
       "    .dataframe tbody tr th:only-of-type {\n",
       "        vertical-align: middle;\n",
       "    }\n",
       "\n",
       "    .dataframe tbody tr th {\n",
       "        vertical-align: top;\n",
       "    }\n",
       "\n",
       "    .dataframe thead th {\n",
       "        text-align: right;\n",
       "    }\n",
       "</style>\n",
       "<table border=\"1\" class=\"dataframe\">\n",
       "  <thead>\n",
       "    <tr style=\"text-align: right;\">\n",
       "      <th></th>\n",
       "      <th>ID</th>\n",
       "      <th>Unit of Measure (Per Pack)</th>\n",
       "      <th>Line Item Quantity</th>\n",
       "      <th>Line Item Value</th>\n",
       "      <th>Pack Price</th>\n",
       "      <th>Unit Price</th>\n",
       "      <th>Line Item Insurance (USD)</th>\n",
       "    </tr>\n",
       "  </thead>\n",
       "  <tbody>\n",
       "    <tr>\n",
       "      <th>count</th>\n",
       "      <td>10324.000000</td>\n",
       "      <td>10324.000000</td>\n",
       "      <td>10324.000000</td>\n",
       "      <td>1.032400e+04</td>\n",
       "      <td>10324.000000</td>\n",
       "      <td>10324.000000</td>\n",
       "      <td>10037.000000</td>\n",
       "    </tr>\n",
       "    <tr>\n",
       "      <th>mean</th>\n",
       "      <td>51098.968229</td>\n",
       "      <td>77.990895</td>\n",
       "      <td>18332.534870</td>\n",
       "      <td>1.576506e+05</td>\n",
       "      <td>21.910241</td>\n",
       "      <td>0.611701</td>\n",
       "      <td>240.117626</td>\n",
       "    </tr>\n",
       "    <tr>\n",
       "      <th>std</th>\n",
       "      <td>31944.332496</td>\n",
       "      <td>76.579764</td>\n",
       "      <td>40035.302961</td>\n",
       "      <td>3.452921e+05</td>\n",
       "      <td>45.609223</td>\n",
       "      <td>3.275808</td>\n",
       "      <td>500.190568</td>\n",
       "    </tr>\n",
       "    <tr>\n",
       "      <th>min</th>\n",
       "      <td>1.000000</td>\n",
       "      <td>1.000000</td>\n",
       "      <td>1.000000</td>\n",
       "      <td>0.000000e+00</td>\n",
       "      <td>0.000000</td>\n",
       "      <td>0.000000</td>\n",
       "      <td>0.000000</td>\n",
       "    </tr>\n",
       "    <tr>\n",
       "      <th>25%</th>\n",
       "      <td>12795.750000</td>\n",
       "      <td>30.000000</td>\n",
       "      <td>408.000000</td>\n",
       "      <td>4.314593e+03</td>\n",
       "      <td>4.120000</td>\n",
       "      <td>0.080000</td>\n",
       "      <td>6.510000</td>\n",
       "    </tr>\n",
       "    <tr>\n",
       "      <th>50%</th>\n",
       "      <td>57540.500000</td>\n",
       "      <td>60.000000</td>\n",
       "      <td>3000.000000</td>\n",
       "      <td>3.047147e+04</td>\n",
       "      <td>9.300000</td>\n",
       "      <td>0.160000</td>\n",
       "      <td>47.040000</td>\n",
       "    </tr>\n",
       "    <tr>\n",
       "      <th>75%</th>\n",
       "      <td>83648.250000</td>\n",
       "      <td>90.000000</td>\n",
       "      <td>17039.750000</td>\n",
       "      <td>1.664471e+05</td>\n",
       "      <td>23.592500</td>\n",
       "      <td>0.470000</td>\n",
       "      <td>252.400000</td>\n",
       "    </tr>\n",
       "    <tr>\n",
       "      <th>max</th>\n",
       "      <td>86823.000000</td>\n",
       "      <td>1000.000000</td>\n",
       "      <td>619999.000000</td>\n",
       "      <td>5.951990e+06</td>\n",
       "      <td>1345.640000</td>\n",
       "      <td>238.650000</td>\n",
       "      <td>7708.440000</td>\n",
       "    </tr>\n",
       "  </tbody>\n",
       "</table>\n",
       "</div>"
      ],
      "text/plain": [
       "                 ID  Unit of Measure (Per Pack)  Line Item Quantity  \\\n",
       "count  10324.000000                10324.000000        10324.000000   \n",
       "mean   51098.968229                   77.990895        18332.534870   \n",
       "std    31944.332496                   76.579764        40035.302961   \n",
       "min        1.000000                    1.000000            1.000000   \n",
       "25%    12795.750000                   30.000000          408.000000   \n",
       "50%    57540.500000                   60.000000         3000.000000   \n",
       "75%    83648.250000                   90.000000        17039.750000   \n",
       "max    86823.000000                 1000.000000       619999.000000   \n",
       "\n",
       "       Line Item Value    Pack Price    Unit Price  Line Item Insurance (USD)  \n",
       "count     1.032400e+04  10324.000000  10324.000000               10037.000000  \n",
       "mean      1.576506e+05     21.910241      0.611701                 240.117626  \n",
       "std       3.452921e+05     45.609223      3.275808                 500.190568  \n",
       "min       0.000000e+00      0.000000      0.000000                   0.000000  \n",
       "25%       4.314593e+03      4.120000      0.080000                   6.510000  \n",
       "50%       3.047147e+04      9.300000      0.160000                  47.040000  \n",
       "75%       1.664471e+05     23.592500      0.470000                 252.400000  \n",
       "max       5.951990e+06   1345.640000    238.650000                7708.440000  "
      ]
     },
     "execution_count": 12,
     "metadata": {},
     "output_type": "execute_result"
    }
   ],
   "source": [
    "df.describe()"
   ]
  },
  {
   "cell_type": "code",
   "execution_count": null,
   "metadata": {},
   "outputs": [],
   "source": [
    "missing_data = df.isnull().sum().sort_values(ascending=False)\n",
    "\n",
    "fig, ax = plt.subplots(figsize=(18, 10))\n",
    "bars = ax.bar(missing_data.index, missing_data.values)\n",
    "title = \"Missing Data in Each Column\"\n",
    "subtitle = \"Sorted by Number of Missing Values\"\n",
    "\n",
    "chart_styling(ax, fig, title, subtitle)\n",
    "plt.show()\n"
   ]
  },
  {
   "cell_type": "code",
   "execution_count": null,
   "metadata": {},
   "outputs": [],
   "source": [
    "for column in df.columns:\n",
    "    print(f\"{column} : {len(df[column].unique())}\")"
   ]
  },
  {
   "cell_type": "markdown",
   "metadata": {},
   "source": [
    "## Step 2: Data Preperation"
   ]
  },
  {
   "cell_type": "code",
   "execution_count": 15,
   "metadata": {},
   "outputs": [
    {
     "data": {
      "application/vnd.microsoft.datawrangler.viewer.v0+json": {
       "columns": [
        {
         "name": "index",
         "rawType": "int64",
         "type": "integer"
        },
        {
         "name": "Country",
         "rawType": "object",
         "type": "string"
        },
        {
         "name": "Managed By",
         "rawType": "object",
         "type": "string"
        },
        {
         "name": "Fulfill Via",
         "rawType": "object",
         "type": "string"
        },
        {
         "name": "Shipment Mode",
         "rawType": "object",
         "type": "string"
        },
        {
         "name": "PQ First Sent to Client Date",
         "rawType": "object",
         "type": "string"
        },
        {
         "name": "PO Sent to Vendor Date",
         "rawType": "object",
         "type": "string"
        },
        {
         "name": "Scheduled Delivery Date",
         "rawType": "object",
         "type": "string"
        },
        {
         "name": "Delivered to Client Date",
         "rawType": "object",
         "type": "string"
        },
        {
         "name": "Delivery Recorded Date",
         "rawType": "object",
         "type": "string"
        },
        {
         "name": "Line Item Quantity",
         "rawType": "int64",
         "type": "integer"
        },
        {
         "name": "Line Item Value",
         "rawType": "float64",
         "type": "float"
        },
        {
         "name": "Weight (Kilograms)",
         "rawType": "object",
         "type": "string"
        },
        {
         "name": "Freight Cost (USD)",
         "rawType": "object",
         "type": "string"
        },
        {
         "name": "Vendor",
         "rawType": "object",
         "type": "string"
        },
        {
         "name": "Line Item Insurance (USD)",
         "rawType": "float64",
         "type": "float"
        }
       ],
       "conversionMethod": "pd.DataFrame",
       "ref": "6db36fcd-f7c8-4fd7-af04-7c0b9048dfa0",
       "rows": [
        [
         "0",
         "Côte d'Ivoire",
         "PMO - US",
         "Direct Drop",
         "Air",
         "Pre-PQ Process",
         "Date Not Captured",
         "2-Jun-06",
         "2-Jun-06",
         "2-Jun-06",
         "19",
         "551.0",
         "13",
         "780.34",
         "RANBAXY Fine Chemicals LTD.",
         null
        ],
        [
         "1",
         "Vietnam",
         "PMO - US",
         "Direct Drop",
         "Air",
         "Pre-PQ Process",
         "Date Not Captured",
         "14-Nov-06",
         "14-Nov-06",
         "14-Nov-06",
         "1000",
         "6200.0",
         "358",
         "4521.5",
         "Aurobindo Pharma Limited",
         null
        ],
        [
         "2",
         "Côte d'Ivoire",
         "PMO - US",
         "Direct Drop",
         "Air",
         "Pre-PQ Process",
         "Date Not Captured",
         "27-Aug-06",
         "27-Aug-06",
         "27-Aug-06",
         "500",
         "40000.0",
         "171",
         "1653.78",
         "Abbott GmbH & Co. KG",
         null
        ],
        [
         "3",
         "Vietnam",
         "PMO - US",
         "Direct Drop",
         "Air",
         "Pre-PQ Process",
         "Date Not Captured",
         "1-Sep-06",
         "1-Sep-06",
         "1-Sep-06",
         "31920",
         "127360.8",
         "1855",
         "16007.06",
         "SUN PHARMACEUTICAL INDUSTRIES LTD (RANBAXY LABORATORIES LIMITED)",
         null
        ],
        [
         "4",
         "Vietnam",
         "PMO - US",
         "Direct Drop",
         "Air",
         "Pre-PQ Process",
         "Date Not Captured",
         "11-Aug-06",
         "11-Aug-06",
         "11-Aug-06",
         "38000",
         "121600.0",
         "7590",
         "45450.08",
         "Aurobindo Pharma Limited",
         null
        ]
       ],
       "shape": {
        "columns": 15,
        "rows": 5
       }
      },
      "text/html": [
       "<div>\n",
       "<style scoped>\n",
       "    .dataframe tbody tr th:only-of-type {\n",
       "        vertical-align: middle;\n",
       "    }\n",
       "\n",
       "    .dataframe tbody tr th {\n",
       "        vertical-align: top;\n",
       "    }\n",
       "\n",
       "    .dataframe thead th {\n",
       "        text-align: right;\n",
       "    }\n",
       "</style>\n",
       "<table border=\"1\" class=\"dataframe\">\n",
       "  <thead>\n",
       "    <tr style=\"text-align: right;\">\n",
       "      <th></th>\n",
       "      <th>Country</th>\n",
       "      <th>Managed By</th>\n",
       "      <th>Fulfill Via</th>\n",
       "      <th>Shipment Mode</th>\n",
       "      <th>PQ First Sent to Client Date</th>\n",
       "      <th>PO Sent to Vendor Date</th>\n",
       "      <th>Scheduled Delivery Date</th>\n",
       "      <th>Delivered to Client Date</th>\n",
       "      <th>Delivery Recorded Date</th>\n",
       "      <th>Line Item Quantity</th>\n",
       "      <th>Line Item Value</th>\n",
       "      <th>Weight (Kilograms)</th>\n",
       "      <th>Freight Cost (USD)</th>\n",
       "      <th>Vendor</th>\n",
       "      <th>Line Item Insurance (USD)</th>\n",
       "    </tr>\n",
       "  </thead>\n",
       "  <tbody>\n",
       "    <tr>\n",
       "      <th>0</th>\n",
       "      <td>Côte d'Ivoire</td>\n",
       "      <td>PMO - US</td>\n",
       "      <td>Direct Drop</td>\n",
       "      <td>Air</td>\n",
       "      <td>Pre-PQ Process</td>\n",
       "      <td>Date Not Captured</td>\n",
       "      <td>2-Jun-06</td>\n",
       "      <td>2-Jun-06</td>\n",
       "      <td>2-Jun-06</td>\n",
       "      <td>19</td>\n",
       "      <td>551.0</td>\n",
       "      <td>13</td>\n",
       "      <td>780.34</td>\n",
       "      <td>RANBAXY Fine Chemicals LTD.</td>\n",
       "      <td>NaN</td>\n",
       "    </tr>\n",
       "    <tr>\n",
       "      <th>1</th>\n",
       "      <td>Vietnam</td>\n",
       "      <td>PMO - US</td>\n",
       "      <td>Direct Drop</td>\n",
       "      <td>Air</td>\n",
       "      <td>Pre-PQ Process</td>\n",
       "      <td>Date Not Captured</td>\n",
       "      <td>14-Nov-06</td>\n",
       "      <td>14-Nov-06</td>\n",
       "      <td>14-Nov-06</td>\n",
       "      <td>1000</td>\n",
       "      <td>6200.0</td>\n",
       "      <td>358</td>\n",
       "      <td>4521.5</td>\n",
       "      <td>Aurobindo Pharma Limited</td>\n",
       "      <td>NaN</td>\n",
       "    </tr>\n",
       "    <tr>\n",
       "      <th>2</th>\n",
       "      <td>Côte d'Ivoire</td>\n",
       "      <td>PMO - US</td>\n",
       "      <td>Direct Drop</td>\n",
       "      <td>Air</td>\n",
       "      <td>Pre-PQ Process</td>\n",
       "      <td>Date Not Captured</td>\n",
       "      <td>27-Aug-06</td>\n",
       "      <td>27-Aug-06</td>\n",
       "      <td>27-Aug-06</td>\n",
       "      <td>500</td>\n",
       "      <td>40000.0</td>\n",
       "      <td>171</td>\n",
       "      <td>1653.78</td>\n",
       "      <td>Abbott GmbH &amp; Co. KG</td>\n",
       "      <td>NaN</td>\n",
       "    </tr>\n",
       "    <tr>\n",
       "      <th>3</th>\n",
       "      <td>Vietnam</td>\n",
       "      <td>PMO - US</td>\n",
       "      <td>Direct Drop</td>\n",
       "      <td>Air</td>\n",
       "      <td>Pre-PQ Process</td>\n",
       "      <td>Date Not Captured</td>\n",
       "      <td>1-Sep-06</td>\n",
       "      <td>1-Sep-06</td>\n",
       "      <td>1-Sep-06</td>\n",
       "      <td>31920</td>\n",
       "      <td>127360.8</td>\n",
       "      <td>1855</td>\n",
       "      <td>16007.06</td>\n",
       "      <td>SUN PHARMACEUTICAL INDUSTRIES LTD (RANBAXY LAB...</td>\n",
       "      <td>NaN</td>\n",
       "    </tr>\n",
       "    <tr>\n",
       "      <th>4</th>\n",
       "      <td>Vietnam</td>\n",
       "      <td>PMO - US</td>\n",
       "      <td>Direct Drop</td>\n",
       "      <td>Air</td>\n",
       "      <td>Pre-PQ Process</td>\n",
       "      <td>Date Not Captured</td>\n",
       "      <td>11-Aug-06</td>\n",
       "      <td>11-Aug-06</td>\n",
       "      <td>11-Aug-06</td>\n",
       "      <td>38000</td>\n",
       "      <td>121600.0</td>\n",
       "      <td>7590</td>\n",
       "      <td>45450.08</td>\n",
       "      <td>Aurobindo Pharma Limited</td>\n",
       "      <td>NaN</td>\n",
       "    </tr>\n",
       "  </tbody>\n",
       "</table>\n",
       "</div>"
      ],
      "text/plain": [
       "         Country Managed By  Fulfill Via Shipment Mode  \\\n",
       "0  Côte d'Ivoire   PMO - US  Direct Drop           Air   \n",
       "1        Vietnam   PMO - US  Direct Drop           Air   \n",
       "2  Côte d'Ivoire   PMO - US  Direct Drop           Air   \n",
       "3        Vietnam   PMO - US  Direct Drop           Air   \n",
       "4        Vietnam   PMO - US  Direct Drop           Air   \n",
       "\n",
       "  PQ First Sent to Client Date PO Sent to Vendor Date Scheduled Delivery Date  \\\n",
       "0               Pre-PQ Process      Date Not Captured                2-Jun-06   \n",
       "1               Pre-PQ Process      Date Not Captured               14-Nov-06   \n",
       "2               Pre-PQ Process      Date Not Captured               27-Aug-06   \n",
       "3               Pre-PQ Process      Date Not Captured                1-Sep-06   \n",
       "4               Pre-PQ Process      Date Not Captured               11-Aug-06   \n",
       "\n",
       "  Delivered to Client Date Delivery Recorded Date  Line Item Quantity  \\\n",
       "0                 2-Jun-06               2-Jun-06                  19   \n",
       "1                14-Nov-06              14-Nov-06                1000   \n",
       "2                27-Aug-06              27-Aug-06                 500   \n",
       "3                 1-Sep-06               1-Sep-06               31920   \n",
       "4                11-Aug-06              11-Aug-06               38000   \n",
       "\n",
       "   Line Item Value Weight (Kilograms) Freight Cost (USD)  \\\n",
       "0            551.0                 13             780.34   \n",
       "1           6200.0                358             4521.5   \n",
       "2          40000.0                171            1653.78   \n",
       "3         127360.8               1855           16007.06   \n",
       "4         121600.0               7590           45450.08   \n",
       "\n",
       "                                              Vendor  \\\n",
       "0                        RANBAXY Fine Chemicals LTD.   \n",
       "1                           Aurobindo Pharma Limited   \n",
       "2                               Abbott GmbH & Co. KG   \n",
       "3  SUN PHARMACEUTICAL INDUSTRIES LTD (RANBAXY LAB...   \n",
       "4                           Aurobindo Pharma Limited   \n",
       "\n",
       "   Line Item Insurance (USD)  \n",
       "0                        NaN  \n",
       "1                        NaN  \n",
       "2                        NaN  \n",
       "3                        NaN  \n",
       "4                        NaN  "
      ]
     },
     "execution_count": 15,
     "metadata": {},
     "output_type": "execute_result"
    }
   ],
   "source": [
    "fedex = df[['Country',\n",
    "    'Managed By',\n",
    "    'Fulfill Via',\n",
    "    'Shipment Mode',\n",
    "    'PQ First Sent to Client Date',\n",
    "    'PO Sent to Vendor Date',\n",
    "    'Scheduled Delivery Date',\n",
    "    'Delivered to Client Date',\n",
    "    'Delivery Recorded Date',\n",
    "    'Line Item Quantity',\n",
    "    'Line Item Value',\n",
    "    'Weight (Kilograms)',\n",
    "    'Freight Cost (USD)',\n",
    "    'Vendor',\n",
    "    'Line Item Insurance (USD)'\n",
    "    ]]\n",
    "\n",
    "fedex.head(5)"
   ]
  },
  {
   "cell_type": "markdown",
   "metadata": {},
   "source": [
    "#### Fill the NA values with the modes of that values.\n"
   ]
  },
  {
   "cell_type": "code",
   "execution_count": null,
   "metadata": {},
   "outputs": [],
   "source": [
    "shipmentModeMode = fedex['Shipment Mode'].mode()[0]\n",
    "\n",
    "fedex['Shipment Mode'].fillna(shipmentModeMode, inplace=True)\n",
    "\n",
    "fedex['Shipment Mode'].isnull().sum()\n"
   ]
  },
  {
   "cell_type": "markdown",
   "metadata": {},
   "source": [
    "#### Fill the NA values with the 0 values.\n"
   ]
  },
  {
   "cell_type": "code",
   "execution_count": null,
   "metadata": {},
   "outputs": [],
   "source": [
    "\n",
    "fedex['Line Item Insurance (USD)'] = fedex['Line Item Insurance (USD)'].fillna(0)\n",
    "\n",
    "fedex['Line Item Insurance (USD)'].isnull().sum()"
   ]
  },
  {
   "cell_type": "code",
   "execution_count": null,
   "metadata": {},
   "outputs": [],
   "source": [
    "fedex.drop_duplicates(inplace=True)"
   ]
  },
  {
   "cell_type": "code",
   "execution_count": null,
   "metadata": {},
   "outputs": [],
   "source": [
    "date_columns = ['PQ First Sent to Client Date', 'PO Sent to Vendor Date', 'Scheduled Delivery Date', 'Delivered to Client Date', 'Delivery Recorded Date']\n",
    "\n",
    "for col in date_columns:\n",
    "    fedex[col] = pd.to_datetime(fedex[col], errors='coerce') "
   ]
  },
  {
   "cell_type": "code",
   "execution_count": null,
   "metadata": {},
   "outputs": [],
   "source": [
    "numeric_columns = ['Line Item Quantity', 'Line Item Value', 'Weight (Kilograms)', 'Freight Cost (USD)', 'Line Item Insurance (USD)']\n",
    "for column in numeric_columns:\n",
    "    fedex[column] = pd.to_numeric(fedex[column], errors='coerce')"
   ]
  },
  {
   "cell_type": "code",
   "execution_count": null,
   "metadata": {},
   "outputs": [],
   "source": [
    "fedex['Country'] = fedex['Country'].str.strip().str.lower() "
   ]
  },
  {
   "cell_type": "code",
   "execution_count": 46,
   "metadata": {},
   "outputs": [],
   "source": [
    "fedex['Freight Cost (USD)'] = pd.to_numeric(fedex['Freight Cost (USD)'], errors='coerce')"
   ]
  },
  {
   "cell_type": "code",
   "execution_count": 60,
   "metadata": {},
   "outputs": [],
   "source": [
    "numeric_columns = ['Line Item Quantity', 'Line Item Value', 'Weight (Kilograms)', \n",
    "                   'Freight Cost (USD)', 'Line Item Insurance (USD)']\n",
    "for col in numeric_columns:\n",
    "    fedex[col] = pd.to_numeric(fedex[col], errors='coerce')"
   ]
  },
  {
   "cell_type": "code",
   "execution_count": 72,
   "metadata": {},
   "outputs": [],
   "source": [
    "date_columns = ['PQ First Sent to Client Date', 'PO Sent to Vendor Date', \n",
    "                'Scheduled Delivery Date', 'Delivered to Client Date', \n",
    "                'Delivery Recorded Date']\n",
    "for col in date_columns:\n",
    "    df[col] = pd.to_datetime(df[col], errors='coerce') "
   ]
  },
  {
   "cell_type": "code",
   "execution_count": null,
   "metadata": {},
   "outputs": [],
   "source": [
    "fedex.info()"
   ]
  },
  {
   "cell_type": "markdown",
   "metadata": {},
   "source": [
    "## Step 3: Features\n"
   ]
  },
  {
   "cell_type": "markdown",
   "metadata": {},
   "source": [
    "#### Count of Shipments by Country"
   ]
  },
  {
   "cell_type": "code",
   "execution_count": null,
   "metadata": {},
   "outputs": [],
   "source": [
    "m = fedex['Country'].value_counts().head(10).index\n",
    "n = fedex['Country'].value_counts().head(10).values\n",
    "\n",
    "fig, ax = plt.subplots(1, 1, figsize=(18, 10))\n",
    "bars = sns.barplot(x=m, y=n, ax=ax)\n",
    "\n",
    "chart_styling(ax=ax, fig=fig, title=\"Count of Shipment By Country\", bars=bars.patches)\n",
    "\n",
    "plt.show()\n"
   ]
  },
  {
   "cell_type": "markdown",
   "metadata": {},
   "source": [
    "#### Distribution of Shipment Modes"
   ]
  },
  {
   "cell_type": "code",
   "execution_count": null,
   "metadata": {},
   "outputs": [],
   "source": [
    "m = fedex['Shipment Mode'].value_counts()\n",
    "\n",
    "fig, ax = plt.subplots(figsize=(18, 10))\n",
    "\n",
    "wedges, texts, autotexts = ax.pie(m, labels=m.index, autopct='%1.1f%%', startangle=140)\n",
    "\n",
    "chart_styling_pie(ax=ax, fig=fig, title=\"Shipment Mode Distribution\", wedges=wedges)\n",
    "\n",
    "plt.show()"
   ]
  },
  {
   "cell_type": "markdown",
   "metadata": {},
   "source": [
    "#### Average Freight Cost"
   ]
  },
  {
   "cell_type": "code",
   "execution_count": null,
   "metadata": {},
   "outputs": [],
   "source": [
    "m = fedex['Freight Cost (USD)'].mean()\n",
    "n = fedex['Freight Cost (USD)']\n",
    "\n",
    "fig, ax = plt.subplots(1, 1, figsize=(18, 10))\n",
    "\n",
    "bars = sns.histplot(x=n, ax=ax, kde=True, bins=30)\n",
    "\n",
    "chart_styling(ax=ax, fig=fig, title='Freight Cost Distribution', bars=bars.patches)\n",
    "\n",
    "plt.show()"
   ]
  },
  {
   "cell_type": "markdown",
   "metadata": {},
   "source": [
    "#### Line Item Quantity Distribution"
   ]
  },
  {
   "cell_type": "code",
   "execution_count": null,
   "metadata": {},
   "outputs": [],
   "source": [
    "m = fedex['Line Item Quantity'].value_counts()\n",
    "\n",
    "fig, ax = plt.subplots(1, 1, figsize=(18, 10))\n",
    "\n",
    "bars = sns.histplot(x= 'Line Item Quantity', data = fedex ,ax = ax, kde = True ,bins= 30)\n",
    "\n",
    "chart_styling(ax=ax, fig=fig, title='Line Item Quantity Distribution', bars=bars.patches)\n",
    "\n",
    "plt.show()\n"
   ]
  },
  {
   "cell_type": "markdown",
   "metadata": {},
   "source": [
    "#### Weight Distribution (Kilograms)"
   ]
  },
  {
   "cell_type": "code",
   "execution_count": null,
   "metadata": {},
   "outputs": [],
   "source": [
    "fig, ax = plt.subplots(1, 1, figsize=(18, 10))\n",
    "\n",
    "bars = sns.boxplot(x='Weight (Kilograms)', data=fedex, ax=ax ,showfliers = False)\n",
    "\n",
    "chart_styling(ax=ax, fig=fig, title='Weight Distribution (Kilograms)', bars=bars.patches)\n",
    "\n",
    "plt.show()\n"
   ]
  },
  {
   "cell_type": "markdown",
   "metadata": {},
   "source": [
    "#### Vendors with highest orders"
   ]
  },
  {
   "cell_type": "code",
   "execution_count": null,
   "metadata": {},
   "outputs": [],
   "source": [
    "fig, ax = plt.subplots(figsize=(18, 10))\n",
    "\n",
    "m = fedex['Vendor'].value_counts().head(10).index\n",
    "\n",
    "bars = sns.countplot(x = 'Vendor', order= m, data = fedex)\n",
    "\n",
    "chart_styling(ax=ax, fig=fig, title='Vendors with highest orders', bars=bars.patches)"
   ]
  },
  {
   "cell_type": "markdown",
   "metadata": {},
   "source": [
    "#### Average Weight by Shipment Mode"
   ]
  },
  {
   "cell_type": "code",
   "execution_count": null,
   "metadata": {},
   "outputs": [],
   "source": [
    "fig, ax = plt.subplots(1, 1, figsize=(18, 10))\n",
    "\n",
    "bars = sns.barplot(x = 'Shipment Mode', y = 'Weight (Kilograms)', data = fedex, estimator = 'mean')\n",
    "\n",
    "chart_styling(ax=ax, fig=fig, title='Average Weight by Shipment Mode', bars=bars.patches)"
   ]
  },
  {
   "cell_type": "markdown",
   "metadata": {},
   "source": [
    "#### Delivery Delays by Shipment Mode"
   ]
  },
  {
   "cell_type": "code",
   "execution_count": null,
   "metadata": {},
   "outputs": [],
   "source": [
    "m = (fedex['Delivered to Client Date'] - fedex['Scheduled Delivery Date']).dt.days\n",
    "n = fedex['Shipment Mode']\n",
    "fig,ax = plt.subplots(1,1,figsize= (18,10))\n",
    "\n",
    "bars = sns.barplot(x = n, y = m, data = fedex)\n",
    "\n",
    "chart_styling(ax=ax, fig=fig, title='Delivery Delays by Shipment Mode', bars=bars.patches)\n",
    "\n",
    "plt.show()"
   ]
  },
  {
   "cell_type": "markdown",
   "metadata": {},
   "source": [
    "#### Line Of Items Across Different Shipment Mode\n"
   ]
  },
  {
   "cell_type": "code",
   "execution_count": null,
   "metadata": {},
   "outputs": [],
   "source": [
    "fig, ax = plt.subplots(figsize=(18, 10))\n",
    "\n",
    "bars = sns.boxplot(x = 'Shipment Mode' , y = 'Line Item Value',data = fedex, showfliers = False)\n",
    "\n",
    "## This line formats the yaxis values from ex: 0.08 to 800.000\n",
    "ax.yaxis.set_major_formatter(mtick.StrMethodFormatter('{x:,.0f}'))\n",
    "\n",
    "\n",
    "chart_styling(ax=ax, fig=fig, title='Line Of Items Across Different Shipment Mode', bars=bars.patches)\n",
    "\n",
    "plt.show()\n"
   ]
  },
  {
   "cell_type": "markdown",
   "metadata": {},
   "source": [
    "#### Freight Cost In Comparison to Weight"
   ]
  },
  {
   "cell_type": "code",
   "execution_count": null,
   "metadata": {},
   "outputs": [],
   "source": [
    "fig, ax = plt.subplots(figsize=(18, 10))\n",
    "\n",
    "bars = sns.scatterplot(x = 'Weight (Kilograms)', y = 'Freight Cost (USD)', data = fedex)\n",
    "\n",
    "chart_styling(ax=ax, fig=fig, title='Freight Cost In Comparison to Weight', bars=bars.patches)\n",
    "\n",
    "plt.tight_layout()\n",
    "\n",
    "plt.show()"
   ]
  },
  {
   "cell_type": "markdown",
   "metadata": {},
   "source": [
    "#### Highest Paying Countries Based on Freight Cost\n"
   ]
  },
  {
   "cell_type": "code",
   "execution_count": null,
   "metadata": {},
   "outputs": [],
   "source": [
    "fig, ax = plt.subplots(figsize=(18, 10))\n",
    "\n",
    "m = fedex.groupby('Country')['Freight Cost (USD)'].sum().nlargest(10).index\n",
    "n = fedex.groupby('Country')['Freight Cost (USD)'].sum().nlargest(10).values\n",
    "\n",
    "bars = sns.barplot(x=m, y=n, ax=ax)\n",
    "\n",
    "chart_styling(ax=ax, fig=fig, title='Highest Paying Countries Based on Freight Cost', bars=bars.patches)\n",
    "\n",
    "plt.show()\n"
   ]
  },
  {
   "cell_type": "markdown",
   "metadata": {},
   "source": [
    "#### Shipment Mode in comparison to Freight Cost"
   ]
  },
  {
   "cell_type": "code",
   "execution_count": null,
   "metadata": {},
   "outputs": [],
   "source": [
    "fig, ax = plt.subplots(figsize=(18, 10))\n",
    "\n",
    "bars = sns.boxplot(x = 'Shipment Mode' , y = 'Freight Cost (USD)', data = fedex, showfliers = False)\n",
    "\n",
    "chart_styling(ax=ax, fig=fig, title='Shipment Mode in comparison to Freight Cost', bars=bars.patches)\n",
    "\n",
    "plt.show()"
   ]
  },
  {
   "cell_type": "markdown",
   "metadata": {},
   "source": [
    "#### Freight Cost by Country, Shipment Mode, and Vendor"
   ]
  },
  {
   "cell_type": "code",
   "execution_count": null,
   "metadata": {},
   "outputs": [],
   "source": [
    "m = fedex['Country'].value_counts().nlargest(10).index\n",
    "\n",
    "n = fedex[fedex['Country'].isin(m)]\n",
    "\n",
    "fig, ax = plt.subplots(figsize=(18, 10))\n",
    "\n",
    "bars = sns.scatterplot(x='Weight (Kilograms)', y='Freight Cost (USD)', hue='Country',  size='Weight (Kilograms)',  style='Shipment Mode',  sizes=(250, 1000),  data=n,ax=ax,legend = False)\n",
    "\n",
    "chart_styling(ax=ax, fig=fig, title='Freight Cost by Country, Shipment Mode, and Vendor', bars=bars.patches)\n",
    "\n",
    "plt.show()"
   ]
  },
  {
   "cell_type": "markdown",
   "metadata": {},
   "source": [
    "#### Line Item Value in Comparison With Freight Cost by Vendor and Shipment Mode"
   ]
  },
  {
   "cell_type": "code",
   "execution_count": null,
   "metadata": {},
   "outputs": [],
   "source": [
    "fig, ax = plt.subplots(figsize=(16, 10))\n",
    "\n",
    "bars = sns.scatterplot(x='Line Item Value', y='Freight Cost (USD)', hue='Vendor', style='Shipment Mode', data=fedex, ax=ax, legend=False)\n",
    "\n",
    "sns.regplot(x='Line Item Value', y='Freight Cost (USD)', data=fedex, scatter=False, ax=ax, color='gray')\n",
    "\n",
    "chart_styling(ax=ax, fig=fig, title='Line Item Value in Comparison With Freight Cost by Vendor and Shipment Mode', bars=bars.patches)\n",
    "\n",
    "plt.show()"
   ]
  },
  {
   "cell_type": "markdown",
   "metadata": {},
   "source": [
    "#### Freight Cost by Shipment Mode, Fulfill Via, and Country"
   ]
  },
  {
   "cell_type": "code",
   "execution_count": null,
   "metadata": {},
   "outputs": [],
   "source": [
    "fig,ax = plt.subplots(1,1,figsize = (18,10))\n",
    "\n",
    "bars = sns.boxplot(x='Shipment Mode', y='Freight Cost (USD)', hue='Fulfill Via', data=fedex, ax=ax, showfliers = False)\n",
    "\n",
    "chart_styling(ax=ax, fig=fig, title='Freight Cost by Shipment Mode, Fulfill Via, and Country', bars=bars.patches)\n",
    "\n",
    "plt.show()"
   ]
  },
  {
   "cell_type": "markdown",
   "metadata": {},
   "source": [
    "#### Correlation Heatmap"
   ]
  },
  {
   "cell_type": "code",
   "execution_count": null,
   "metadata": {},
   "outputs": [],
   "source": [
    "correlation_matrix = fedex[numeric_columns].corr()"
   ]
  },
  {
   "cell_type": "code",
   "execution_count": null,
   "metadata": {},
   "outputs": [],
   "source": [
    "fig,ax = plt.subplots(figsize=(18, 10))\n",
    "\n",
    "sns.heatmap(correlation_matrix, annot=True, fmt='.2f', linewidths=0.5)\n",
    "\n",
    "chart_styling(ax=ax, fig=fig, title='Correlations', bars=bars.patches)\n",
    "\n",
    "plt.show()"
   ]
  },
  {
   "cell_type": "markdown",
   "metadata": {},
   "source": [
    "### Pair Plot"
   ]
  },
  {
   "cell_type": "code",
   "execution_count": 100,
   "metadata": {},
   "outputs": [],
   "source": [
    "numericColumns = ['Line Item Value', 'Weight (Kilograms)', 'Freight Cost (USD)', 'Line Item Insurance (USD)', 'Line Item Quantity']"
   ]
  },
  {
   "cell_type": "code",
   "execution_count": 101,
   "metadata": {},
   "outputs": [],
   "source": [
    "df_pairplot = fedex[numeric_columns + ['Shipment Mode']].dropna()"
   ]
  },
  {
   "cell_type": "code",
   "execution_count": null,
   "metadata": {},
   "outputs": [],
   "source": [
    "fig = sns.pairplot(df_pairplot, hue='Shipment Mode', diag_kind='kde', plot_kws={'alpha': 0.7})  \n",
    "\n",
    "for ax in fig.axes.flatten():\n",
    "    ax.set_facecolor('#D3D3D3')  \n",
    "    ax.grid(axis='both', linestyle='-', alpha=0.4) \n",
    "    ax.set_axisbelow(True)\n",
    "\n",
    "    \n",
    "fig.fig.suptitle('Data Pair Plot', fontsize=18, fontweight='bold', fontfamily='serif')\n",
    "fig.fig.subplots_adjust(top=0.95)  \n",
    "\n",
    "fig.fig.patch.set_facecolor('#D3D3D3')\n",
    "\n",
    "plt.show()    "
   ]
  }
 ],
 "metadata": {
  "kernelspec": {
   "display_name": "jupyter_env",
   "language": "python",
   "name": "python3"
  },
  "language_info": {
   "codemirror_mode": {
    "name": "ipython",
    "version": 3
   },
   "file_extension": ".py",
   "mimetype": "text/x-python",
   "name": "python",
   "nbconvert_exporter": "python",
   "pygments_lexer": "ipython3",
   "version": "3.13.2"
  }
 },
 "nbformat": 4,
 "nbformat_minor": 2
}
